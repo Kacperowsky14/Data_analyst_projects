{
 "cells": [
  {
   "cell_type": "markdown",
   "id": "562e7908",
   "metadata": {},
   "source": [
    "# Dataset electric vehicles"
   ]
  },
  {
   "cell_type": "markdown",
   "id": "8a408a75",
   "metadata": {},
   "source": [
    "In this small project, we will look at electric vehicles and their manufacturers"
   ]
  },
  {
   "cell_type": "code",
   "execution_count": 1,
   "id": "ca2d537d",
   "metadata": {},
   "outputs": [],
   "source": [
    "import pandas as pd\n",
    "import seaborn as sns\n",
    "import numpy as np"
   ]
  },
  {
   "cell_type": "code",
   "execution_count": 2,
   "id": "571fe218",
   "metadata": {},
   "outputs": [],
   "source": [
    "df = pd.read_csv(r\"C:\\Users\\KACPE\\Downloads\\archive (2)\\Alternative Fuel Vehicles US.csv\")"
   ]
  },
  {
   "cell_type": "markdown",
   "id": "6375ee67",
   "metadata": {},
   "source": [
    "After loading the dataframe, I only search for electric cars"
   ]
  },
  {
   "cell_type": "code",
   "execution_count": 3,
   "id": "25c0ecca",
   "metadata": {},
   "outputs": [],
   "source": [
    "df = df[df.Fuel == \"Electric\"]"
   ]
  },
  {
   "cell_type": "markdown",
   "id": "a75f5594",
   "metadata": {},
   "source": [
    "Using the code below, I can check the list of all electric car manufacturers"
   ]
  },
  {
   "cell_type": "code",
   "execution_count": 4,
   "id": "34b9ceba",
   "metadata": {},
   "outputs": [
    {
     "name": "stdout",
     "output_type": "stream",
     "text": [
      "['Audi', 'BMW', 'Chevrolet', 'Ford', 'Hyundai', 'Kia', 'Lucid USA, Inc.', 'Mazda', 'Mercedes-Benz', 'Mini', 'Nissan', 'Polestar Automotive USA', 'Porsche', 'Rivian ', 'Tesla', 'Volkswagen', 'Volvo', 'Jaguar', 'Kandi', 'Autocar', 'Battle Motors', 'Blue Bird', 'BYD', 'COBUS Industries', 'Collins Bus Corp.', 'ENC', 'Freightliner Custom Chassis', 'FUSO', 'Gillig', 'Global', 'GM BrightDrop', 'GreenPower Motor Company', 'Hometown Manufacturing', 'IC Bus', 'International', 'Kalmar', 'Kenworth', 'Lion Electric', 'Mack', 'MCI', 'Morgan-Olson', 'New Flyer', 'Nova Bus', 'Optimal-EV', 'Orange EV', 'Peterbilt', 'Proterra', 'Starcraft', 'Thomas Built', 'Turtle Top', 'Utilimaster', 'Van Hool', 'Workhorse']\n"
     ]
    }
   ],
   "source": [
    "list_of_manufacturers = []\n",
    "\n",
    "\n",
    "for i in df.Manufacturer:\n",
    "    if i not in list_of_manufacturers:\n",
    "        list_of_manufacturers.append(i)\n",
    "print(list_of_manufacturers)"
   ]
  },
  {
   "cell_type": "markdown",
   "id": "e63f7afd",
   "metadata": {},
   "source": [
    "Let's go a step further. Now I will count how many electric cars have been produced by the given companies"
   ]
  },
  {
   "cell_type": "code",
   "execution_count": 5,
   "id": "7ddf74b9",
   "metadata": {},
   "outputs": [],
   "source": [
    "list_of_manufacturers = {\"Audi\":2}\n",
    "\n",
    "\n",
    "for i in df.Manufacturer:\n",
    "    if i in list_of_manufacturers:\n",
    "        list_of_manufacturers[i] += 1\n",
    "    if i not in list_of_manufacturers:\n",
    "        list_of_manufacturers[i] = 1\n"
   ]
  },
  {
   "cell_type": "markdown",
   "id": "9c85e74e",
   "metadata": {},
   "source": [
    "After creating the dictionary, I need to convert it into a dataframe and transpose it. I used the manufacturer's name as an index and gave the name to the column displaying the number of models. \n",
    "Finally, I sorted it in order from largest amount to smallest."
   ]
  },
  {
   "cell_type": "code",
   "execution_count": 6,
   "id": "e5828f6b",
   "metadata": {},
   "outputs": [
    {
     "data": {
      "text/html": [
       "<div>\n",
       "<style scoped>\n",
       "    .dataframe tbody tr th:only-of-type {\n",
       "        vertical-align: middle;\n",
       "    }\n",
       "\n",
       "    .dataframe tbody tr th {\n",
       "        vertical-align: top;\n",
       "    }\n",
       "\n",
       "    .dataframe thead th {\n",
       "        text-align: right;\n",
       "    }\n",
       "</style>\n",
       "<table border=\"1\" class=\"dataframe\">\n",
       "  <thead>\n",
       "    <tr style=\"text-align: right;\">\n",
       "      <th></th>\n",
       "      <th>Number of electric vehicles</th>\n",
       "    </tr>\n",
       "  </thead>\n",
       "  <tbody>\n",
       "    <tr>\n",
       "      <th>Ford</th>\n",
       "      <td>36</td>\n",
       "    </tr>\n",
       "    <tr>\n",
       "      <th>Tesla</th>\n",
       "      <td>24</td>\n",
       "    </tr>\n",
       "    <tr>\n",
       "      <th>BYD</th>\n",
       "      <td>17</td>\n",
       "    </tr>\n",
       "    <tr>\n",
       "      <th>Porsche</th>\n",
       "      <td>16</td>\n",
       "    </tr>\n",
       "    <tr>\n",
       "      <th>Audi</th>\n",
       "      <td>14</td>\n",
       "    </tr>\n",
       "    <tr>\n",
       "      <th>GreenPower Motor Company</th>\n",
       "      <td>10</td>\n",
       "    </tr>\n",
       "    <tr>\n",
       "      <th>BMW</th>\n",
       "      <td>9</td>\n",
       "    </tr>\n",
       "    <tr>\n",
       "      <th>Volkswagen</th>\n",
       "      <td>9</td>\n",
       "    </tr>\n",
       "    <tr>\n",
       "      <th>Lion Electric</th>\n",
       "      <td>8</td>\n",
       "    </tr>\n",
       "    <tr>\n",
       "      <th>Hometown Manufacturing</th>\n",
       "      <td>6</td>\n",
       "    </tr>\n",
       "  </tbody>\n",
       "</table>\n",
       "</div>"
      ],
      "text/plain": [
       "                          Number of electric vehicles\n",
       "Ford                                               36\n",
       "Tesla                                              24\n",
       "BYD                                                17\n",
       "Porsche                                            16\n",
       "Audi                                               14\n",
       "GreenPower Motor Company                           10\n",
       "BMW                                                 9\n",
       "Volkswagen                                          9\n",
       "Lion Electric                                       8\n",
       "Hometown Manufacturing                              6"
      ]
     },
     "execution_count": 6,
     "metadata": {},
     "output_type": "execute_result"
    }
   ],
   "source": [
    "frame4 = pd.json_normalize(list_of_manufacturers)\n",
    "frame4 = np.transpose(frame4)\n",
    "frame4.columns =[\"Number of electric vehicles\"]\n",
    "frame4.sort_values(\"Number of electric vehicles\", axis=0, ascending=False, inplace=True)\n",
    "frame4.head(10)"
   ]
  },
  {
   "cell_type": "markdown",
   "id": "23e35222",
   "metadata": {},
   "source": [
    "Now, I remove unnecessary columns, NaN values, and remove the engine types from the last column so that only the engine size remains"
   ]
  },
  {
   "cell_type": "code",
   "execution_count": 7,
   "id": "597951a5",
   "metadata": {},
   "outputs": [],
   "source": [
    "df = df.drop([\"Category\",'Model',\"Model Year\",\"PHEV Total Range\"], axis=1)\n",
    "df.reset_index(drop=True,inplace=True)"
   ]
  },
  {
   "cell_type": "code",
   "execution_count": 8,
   "id": "36f3a3bd",
   "metadata": {},
   "outputs": [],
   "source": [
    "df = df.drop(df.iloc[:,6:12],axis = 1)\n",
    "df.reset_index(drop=True,inplace=True)\n"
   ]
  },
  {
   "cell_type": "code",
   "execution_count": 9,
   "id": "3f6dadf1",
   "metadata": {},
   "outputs": [
    {
     "data": {
      "text/html": [
       "<div>\n",
       "<style scoped>\n",
       "    .dataframe tbody tr th:only-of-type {\n",
       "        vertical-align: middle;\n",
       "    }\n",
       "\n",
       "    .dataframe tbody tr th {\n",
       "        vertical-align: top;\n",
       "    }\n",
       "\n",
       "    .dataframe thead th {\n",
       "        text-align: right;\n",
       "    }\n",
       "</style>\n",
       "<table border=\"1\" class=\"dataframe\">\n",
       "  <thead>\n",
       "    <tr style=\"text-align: right;\">\n",
       "      <th></th>\n",
       "      <th>Manufacturer</th>\n",
       "      <th>Fuel</th>\n",
       "      <th>All-Electric Range</th>\n",
       "      <th>Alternative Fuel Economy City</th>\n",
       "      <th>Alternative Fuel Economy Highway</th>\n",
       "      <th>Alternative Fuel Economy Combined</th>\n",
       "      <th>Engine Size</th>\n",
       "    </tr>\n",
       "  </thead>\n",
       "  <tbody>\n",
       "    <tr>\n",
       "      <th>0</th>\n",
       "      <td>Audi</td>\n",
       "      <td>Electric</td>\n",
       "      <td>238.0</td>\n",
       "      <td>81.0</td>\n",
       "      <td>83.0</td>\n",
       "      <td>82.0</td>\n",
       "      <td>175 kW electric motor</td>\n",
       "    </tr>\n",
       "    <tr>\n",
       "      <th>1</th>\n",
       "      <td>Audi</td>\n",
       "      <td>Electric</td>\n",
       "      <td>222.0</td>\n",
       "      <td>78.0</td>\n",
       "      <td>77.0</td>\n",
       "      <td>78.0</td>\n",
       "      <td>141 kW and 172 kW electric motor</td>\n",
       "    </tr>\n",
       "    <tr>\n",
       "      <th>2</th>\n",
       "      <td>Audi</td>\n",
       "      <td>Electric</td>\n",
       "      <td>208.0</td>\n",
       "      <td>72.0</td>\n",
       "      <td>75.0</td>\n",
       "      <td>73.0</td>\n",
       "      <td>138kW electric motor</td>\n",
       "    </tr>\n",
       "    <tr>\n",
       "      <th>3</th>\n",
       "      <td>Audi</td>\n",
       "      <td>Electric</td>\n",
       "      <td>181.0</td>\n",
       "      <td>62.0</td>\n",
       "      <td>64.0</td>\n",
       "      <td>63.0</td>\n",
       "      <td>138kW electric motor</td>\n",
       "    </tr>\n",
       "    <tr>\n",
       "      <th>4</th>\n",
       "      <td>Audi</td>\n",
       "      <td>Electric</td>\n",
       "      <td>218.0</td>\n",
       "      <td>76.0</td>\n",
       "      <td>78.0</td>\n",
       "      <td>77.0</td>\n",
       "      <td>141 kW and 172 kW electric motor</td>\n",
       "    </tr>\n",
       "  </tbody>\n",
       "</table>\n",
       "</div>"
      ],
      "text/plain": [
       "  Manufacturer      Fuel  All-Electric Range  Alternative Fuel Economy City  \\\n",
       "0         Audi  Electric               238.0                           81.0   \n",
       "1         Audi  Electric               222.0                           78.0   \n",
       "2         Audi  Electric               208.0                           72.0   \n",
       "3         Audi  Electric               181.0                           62.0   \n",
       "4         Audi  Electric               218.0                           76.0   \n",
       "\n",
       "   Alternative Fuel Economy Highway  Alternative Fuel Economy Combined  \\\n",
       "0                              83.0                               82.0   \n",
       "1                              77.0                               78.0   \n",
       "2                              75.0                               73.0   \n",
       "3                              64.0                               63.0   \n",
       "4                              78.0                               77.0   \n",
       "\n",
       "                        Engine Size  \n",
       "0             175 kW electric motor  \n",
       "1  141 kW and 172 kW electric motor  \n",
       "2              138kW electric motor  \n",
       "3              138kW electric motor  \n",
       "4  141 kW and 172 kW electric motor  "
      ]
     },
     "execution_count": 9,
     "metadata": {},
     "output_type": "execute_result"
    }
   ],
   "source": [
    "df = df.drop(df.iloc[:,7:12],axis = 1)\n",
    "df.reset_index(drop=True,inplace=True)\n",
    "df.head()"
   ]
  },
  {
   "cell_type": "code",
   "execution_count": 10,
   "id": "63e8ad06",
   "metadata": {},
   "outputs": [],
   "source": [
    "df[\"Engine Size\"] = df[\"Engine Size\"].str.strip(\"electric motor\")\n",
    "df[\"Engine Size\"] = df[\"Engine Size\"].str.strip(\"electric motors\")\n",
    "\n",
    "df = df[df['Engine Size'].notna()]"
   ]
  },
  {
   "cell_type": "code",
   "execution_count": 11,
   "id": "c527bfff",
   "metadata": {},
   "outputs": [
    {
     "data": {
      "text/html": [
       "<div>\n",
       "<style scoped>\n",
       "    .dataframe tbody tr th:only-of-type {\n",
       "        vertical-align: middle;\n",
       "    }\n",
       "\n",
       "    .dataframe tbody tr th {\n",
       "        vertical-align: top;\n",
       "    }\n",
       "\n",
       "    .dataframe thead th {\n",
       "        text-align: right;\n",
       "    }\n",
       "</style>\n",
       "<table border=\"1\" class=\"dataframe\">\n",
       "  <thead>\n",
       "    <tr style=\"text-align: right;\">\n",
       "      <th></th>\n",
       "      <th>Manufacturer</th>\n",
       "      <th>Fuel</th>\n",
       "      <th>All-Electric Range</th>\n",
       "      <th>Alternative Fuel Economy City</th>\n",
       "      <th>Alternative Fuel Economy Highway</th>\n",
       "      <th>Alternative Fuel Economy Combined</th>\n",
       "      <th>Engine Size</th>\n",
       "    </tr>\n",
       "  </thead>\n",
       "  <tbody>\n",
       "    <tr>\n",
       "      <th>0</th>\n",
       "      <td>Audi</td>\n",
       "      <td>Electric</td>\n",
       "      <td>238.0</td>\n",
       "      <td>81.0</td>\n",
       "      <td>83.0</td>\n",
       "      <td>82.0</td>\n",
       "      <td>175 kW</td>\n",
       "    </tr>\n",
       "    <tr>\n",
       "      <th>1</th>\n",
       "      <td>Audi</td>\n",
       "      <td>Electric</td>\n",
       "      <td>222.0</td>\n",
       "      <td>78.0</td>\n",
       "      <td>77.0</td>\n",
       "      <td>78.0</td>\n",
       "      <td>141 kW and 172 kW</td>\n",
       "    </tr>\n",
       "    <tr>\n",
       "      <th>2</th>\n",
       "      <td>Audi</td>\n",
       "      <td>Electric</td>\n",
       "      <td>208.0</td>\n",
       "      <td>72.0</td>\n",
       "      <td>75.0</td>\n",
       "      <td>73.0</td>\n",
       "      <td>138kW</td>\n",
       "    </tr>\n",
       "    <tr>\n",
       "      <th>3</th>\n",
       "      <td>Audi</td>\n",
       "      <td>Electric</td>\n",
       "      <td>181.0</td>\n",
       "      <td>62.0</td>\n",
       "      <td>64.0</td>\n",
       "      <td>63.0</td>\n",
       "      <td>138kW</td>\n",
       "    </tr>\n",
       "    <tr>\n",
       "      <th>4</th>\n",
       "      <td>Audi</td>\n",
       "      <td>Electric</td>\n",
       "      <td>218.0</td>\n",
       "      <td>76.0</td>\n",
       "      <td>78.0</td>\n",
       "      <td>77.0</td>\n",
       "      <td>141 kW and 172 kW</td>\n",
       "    </tr>\n",
       "    <tr>\n",
       "      <th>...</th>\n",
       "      <td>...</td>\n",
       "      <td>...</td>\n",
       "      <td>...</td>\n",
       "      <td>...</td>\n",
       "      <td>...</td>\n",
       "      <td>...</td>\n",
       "      <td>...</td>\n",
       "    </tr>\n",
       "    <tr>\n",
       "      <th>107</th>\n",
       "      <td>Porsche</td>\n",
       "      <td>Electric</td>\n",
       "      <td>227.0</td>\n",
       "      <td>75.0</td>\n",
       "      <td>81.0</td>\n",
       "      <td>77.0</td>\n",
       "      <td>210 and 250 kW</td>\n",
       "    </tr>\n",
       "    <tr>\n",
       "      <th>108</th>\n",
       "      <td>Porsche</td>\n",
       "      <td>Electric</td>\n",
       "      <td>200.0</td>\n",
       "      <td>76.0</td>\n",
       "      <td>84.0</td>\n",
       "      <td>79.0</td>\n",
       "      <td>240 kW</td>\n",
       "    </tr>\n",
       "    <tr>\n",
       "      <th>109</th>\n",
       "      <td>Porsche</td>\n",
       "      <td>Electric</td>\n",
       "      <td>225.0</td>\n",
       "      <td>71.0</td>\n",
       "      <td>80.0</td>\n",
       "      <td>75.0</td>\n",
       "      <td>280 kW</td>\n",
       "    </tr>\n",
       "    <tr>\n",
       "      <th>112</th>\n",
       "      <td>Tesla</td>\n",
       "      <td>Electric</td>\n",
       "      <td>353.0</td>\n",
       "      <td>141.0</td>\n",
       "      <td>127.0</td>\n",
       "      <td>134.0</td>\n",
       "      <td>131 and 190 kW</td>\n",
       "    </tr>\n",
       "    <tr>\n",
       "      <th>113</th>\n",
       "      <td>Tesla</td>\n",
       "      <td>Electric</td>\n",
       "      <td>315.0</td>\n",
       "      <td>118.0</td>\n",
       "      <td>107.0</td>\n",
       "      <td>113.0</td>\n",
       "      <td>131 and 190 kW</td>\n",
       "    </tr>\n",
       "  </tbody>\n",
       "</table>\n",
       "<p>110 rows × 7 columns</p>\n",
       "</div>"
      ],
      "text/plain": [
       "    Manufacturer      Fuel  All-Electric Range  Alternative Fuel Economy City  \\\n",
       "0           Audi  Electric               238.0                           81.0   \n",
       "1           Audi  Electric               222.0                           78.0   \n",
       "2           Audi  Electric               208.0                           72.0   \n",
       "3           Audi  Electric               181.0                           62.0   \n",
       "4           Audi  Electric               218.0                           76.0   \n",
       "..           ...       ...                 ...                            ...   \n",
       "107      Porsche  Electric               227.0                           75.0   \n",
       "108      Porsche  Electric               200.0                           76.0   \n",
       "109      Porsche  Electric               225.0                           71.0   \n",
       "112        Tesla  Electric               353.0                          141.0   \n",
       "113        Tesla  Electric               315.0                          118.0   \n",
       "\n",
       "     Alternative Fuel Economy Highway  Alternative Fuel Economy Combined  \\\n",
       "0                                83.0                               82.0   \n",
       "1                                77.0                               78.0   \n",
       "2                                75.0                               73.0   \n",
       "3                                64.0                               63.0   \n",
       "4                                78.0                               77.0   \n",
       "..                                ...                                ...   \n",
       "107                              81.0                               77.0   \n",
       "108                              84.0                               79.0   \n",
       "109                              80.0                               75.0   \n",
       "112                             127.0                              134.0   \n",
       "113                             107.0                              113.0   \n",
       "\n",
       "           Engine Size  \n",
       "0               175 kW  \n",
       "1    141 kW and 172 kW  \n",
       "2                138kW  \n",
       "3                138kW  \n",
       "4    141 kW and 172 kW  \n",
       "..                 ...  \n",
       "107     210 and 250 kW  \n",
       "108             240 kW  \n",
       "109             280 kW  \n",
       "112     131 and 190 kW  \n",
       "113     131 and 190 kW  \n",
       "\n",
       "[110 rows x 7 columns]"
      ]
     },
     "execution_count": 11,
     "metadata": {},
     "output_type": "execute_result"
    }
   ],
   "source": [
    "df.head(110)"
   ]
  },
  {
   "cell_type": "code",
   "execution_count": 12,
   "id": "24eebafa",
   "metadata": {},
   "outputs": [
    {
     "data": {
      "text/html": [
       "<div>\n",
       "<style scoped>\n",
       "    .dataframe tbody tr th:only-of-type {\n",
       "        vertical-align: middle;\n",
       "    }\n",
       "\n",
       "    .dataframe tbody tr th {\n",
       "        vertical-align: top;\n",
       "    }\n",
       "\n",
       "    .dataframe thead th {\n",
       "        text-align: right;\n",
       "    }\n",
       "</style>\n",
       "<table border=\"1\" class=\"dataframe\">\n",
       "  <thead>\n",
       "    <tr style=\"text-align: right;\">\n",
       "      <th></th>\n",
       "      <th>Manufacturer</th>\n",
       "      <th>Fuel</th>\n",
       "      <th>All-Electric Range</th>\n",
       "      <th>Alternative Fuel Economy City</th>\n",
       "      <th>Alternative Fuel Economy Highway</th>\n",
       "      <th>Alternative Fuel Economy Combined</th>\n",
       "      <th>Engine Size</th>\n",
       "    </tr>\n",
       "  </thead>\n",
       "  <tbody>\n",
       "    <tr>\n",
       "      <th>0</th>\n",
       "      <td>Lucid USA, Inc.</td>\n",
       "      <td>Electric</td>\n",
       "      <td>520.0</td>\n",
       "      <td>126.0</td>\n",
       "      <td>125.0</td>\n",
       "      <td>125.0</td>\n",
       "      <td>198kW and 498kW</td>\n",
       "    </tr>\n",
       "    <tr>\n",
       "      <th>1</th>\n",
       "      <td>Lucid USA, Inc.</td>\n",
       "      <td>Electric</td>\n",
       "      <td>516.0</td>\n",
       "      <td>130.0</td>\n",
       "      <td>132.0</td>\n",
       "      <td>131.0</td>\n",
       "      <td>178kW and 433kW</td>\n",
       "    </tr>\n",
       "    <tr>\n",
       "      <th>2</th>\n",
       "      <td>Lucid USA, Inc.</td>\n",
       "      <td>Electric</td>\n",
       "      <td>481.0</td>\n",
       "      <td>115.0</td>\n",
       "      <td>117.0</td>\n",
       "      <td>116.0</td>\n",
       "      <td>198kW and 498kW</td>\n",
       "    </tr>\n",
       "    <tr>\n",
       "      <th>3</th>\n",
       "      <td>Lucid USA, Inc.</td>\n",
       "      <td>Electric</td>\n",
       "      <td>471.0</td>\n",
       "      <td>117.0</td>\n",
       "      <td>114.0</td>\n",
       "      <td>116.0</td>\n",
       "      <td>370kW and 459kW</td>\n",
       "    </tr>\n",
       "    <tr>\n",
       "      <th>4</th>\n",
       "      <td>Lucid USA, Inc.</td>\n",
       "      <td>Electric</td>\n",
       "      <td>469.0</td>\n",
       "      <td>121.0</td>\n",
       "      <td>122.0</td>\n",
       "      <td>121.0</td>\n",
       "      <td>178kW and 433kW</td>\n",
       "    </tr>\n",
       "  </tbody>\n",
       "</table>\n",
       "</div>"
      ],
      "text/plain": [
       "      Manufacturer      Fuel  All-Electric Range  \\\n",
       "0  Lucid USA, Inc.  Electric               520.0   \n",
       "1  Lucid USA, Inc.  Electric               516.0   \n",
       "2  Lucid USA, Inc.  Electric               481.0   \n",
       "3  Lucid USA, Inc.  Electric               471.0   \n",
       "4  Lucid USA, Inc.  Electric               469.0   \n",
       "\n",
       "   Alternative Fuel Economy City  Alternative Fuel Economy Highway  \\\n",
       "0                          126.0                             125.0   \n",
       "1                          130.0                             132.0   \n",
       "2                          115.0                             117.0   \n",
       "3                          117.0                             114.0   \n",
       "4                          121.0                             122.0   \n",
       "\n",
       "   Alternative Fuel Economy Combined      Engine Size  \n",
       "0                              125.0  198kW and 498kW  \n",
       "1                              131.0  178kW and 433kW  \n",
       "2                              116.0  198kW and 498kW  \n",
       "3                              116.0  370kW and 459kW  \n",
       "4                              121.0  178kW and 433kW  "
      ]
     },
     "execution_count": 12,
     "metadata": {},
     "output_type": "execute_result"
    }
   ],
   "source": [
    "df.sort_values(by=[\"All-Electric Range\"],inplace=True,ascending=False)\n",
    "df.reset_index(drop=True,inplace=True)\n",
    "df.head()"
   ]
  },
  {
   "cell_type": "markdown",
   "id": "8c913b2d",
   "metadata": {},
   "source": [
    "The following code changes the type of the value in a column \"All-Electric Range\""
   ]
  },
  {
   "cell_type": "code",
   "execution_count": 13,
   "id": "5fd42fec",
   "metadata": {},
   "outputs": [],
   "source": [
    "df[\"All-Electric Range\"] = df[\"All-Electric Range\"].astype('int64') "
   ]
  },
  {
   "cell_type": "markdown",
   "id": "fbf78c97",
   "metadata": {},
   "source": [
    "Finally, I show the car range as a graph"
   ]
  },
  {
   "cell_type": "code",
   "execution_count": 14,
   "id": "83e5ad77",
   "metadata": {},
   "outputs": [
    {
     "data": {
      "image/png": "[encoded data removed]",
      "text/plain": [
       "<Figure size 360x360 with 1 Axes>"
      ]
     },
     "metadata": {},
     "output_type": "display_data"
    }
   ],
   "source": [
    "sns.set(font_scale = 1.1)\n",
    "chart = sns.catplot(data=df, x = \"All-Electric Range\", y = \"Manufacturer\", kind = \"bar\",)"
   ]
  },
  {
   "cell_type": "code",
   "execution_count": null,
   "id": "e1131037",
   "metadata": {},
   "outputs": [],
   "source": []
  }
 ],
 "metadata": {
  "kernelspec": {
   "display_name": "Python 3 (ipykernel)",
   "language": "python",
   "name": "python3"
  },
  "language_info": {
   "codemirror_mode": {
    "name": "ipython",
    "version": 3
   },
   "file_extension": ".py",
   "mimetype": "text/x-python",
   "name": "python",
   "nbconvert_exporter": "python",
   "pygments_lexer": "ipython3",
   "version": "3.9.12"
  }
 },
 "nbformat": 4,
 "nbformat_minor": 5
}
